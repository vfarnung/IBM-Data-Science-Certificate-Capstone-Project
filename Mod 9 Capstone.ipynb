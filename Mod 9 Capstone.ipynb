{
    "cells": [
        {
            "metadata": {
                "collapsed": true
            },
            "cell_type": "markdown",
            "source": "# Capstone Project"
        },
        {
            "metadata": {},
            "cell_type": "markdown",
            "source": "### Introduction/ Business Problem\n\nThe problem I am trying to solve deals with picking a restaurant for lunch or dinner. To me, it happens a lot of times that I am the mood for a certain cuisine but there are either no restaurants offering that option around or the ones present aren't as good as I hoped the would be. For that reason, I decided to use the Foursqaure location data to find out which neighboorhoods in New York are known for which cuisines, in particular which neighboorhoods have multiple outstanding restaurants of a particular cuisine. Addtionally, for the top three cuisines of a neighboorhood, I plan to offer a list of the top 5 restaurants for each"
        },
        {
            "metadata": {},
            "cell_type": "markdown",
            "source": "### Data\n\nIn order to get the names of all the neighboorhoods, as well as their position on the globe (latitude and longitude), I am using the data from \"2014 New York City Neighborhood Names\" published by NYU under the link https://geo.nyu.edu/catalog/nyu_2451_34572. Once I know the different neighboorhoods, I am going to use the Foursquare API to determine which venue categories are most popular in the different neighboorhoods and then create a list of the top 5 restaurants for the top 3 venue categories in each neighboorhood. "
        },
        {
            "metadata": {},
            "cell_type": "code",
            "source": "",
            "execution_count": null,
            "outputs": []
        }
    ],
    "metadata": {
        "kernelspec": {
            "name": "python3",
            "display_name": "Python 3.6",
            "language": "python"
        },
        "language_info": {
            "name": "python",
            "version": "3.6.9",
            "mimetype": "text/x-python",
            "codemirror_mode": {
                "name": "ipython",
                "version": 3
            },
            "pygments_lexer": "ipython3",
            "nbconvert_exporter": "python",
            "file_extension": ".py"
        }
    },
    "nbformat": 4,
    "nbformat_minor": 1
}